{
 "cells": [
  {
   "cell_type": "markdown",
   "metadata": {},
   "source": [
    "## NUMPY ASSIGNMENT: "
   ]
  },
  {
   "cell_type": "markdown",
   "metadata": {},
   "source": [
    "<h3>Write a function so that the columns of the output matrix are powers of the input vector. The order of the powers is determined by the increasing boolean argument. Specifically, when increasing is False, the i-th output column is the input vector raised element-wise to the power of N - i - 1. </h3>\n",
    "\n",
    "<h5>HINT: Such a matrix with a geometric progression in each row is named for Alexandre-\n",
    "Theophile Vandermonde. </h5>\n",
    "\n",
    "<h3>Problem Statement 2: <br></h3>\n",
    "<h5>Given a sequence of n values x1, x2, ..., xn and a window size k>0, the k-th moving average of the given sequence is defined as follows:<br>\n",
    "The moving average sequence has n-k+1 elements as shown below.<br>\n",
    "The moving averages with k=4 of a ten-value sequence (n=10) is shown below<br>\n",
    "i 1 2 3 4 5 6 7 8 9 10 <br>\n",
    "===== == == == == == == == == == == <br>\n",
    "Input 10 20 30 40 50 60 70 80 90 100 <br>\n",
    "y1 25 = (10+20+30+40)/4 <br>\n",
    "y2 35 = (20+30+40+50)/4 <br>\n",
    "y3 45 = (30+40+50+60)/4 <br>\n",
    "y4 55 = (40+50+60+70)/4 <br>\n",
    "y5 65 = (50+60+70+80)/4 <br>\n",
    "y6 75 = (60+70+80+90)/4 <br>\n",
    "y7 85 = (70+80+90+100)/4 <br>\n",
    "Thus, the moving average sequence has n-k+1=10-4+1=7 values. <br></h5>"
   ]
  },
  {
   "cell_type": "markdown",
   "metadata": {},
   "source": [
    "<p> Question: Write a function to find moving average in an array over a window: <br>\n",
    "Test it over [3, 5, 7, 2, 8, 10, 11, 65, 72, 81, 99, 100, 150] and window of 3. </p>"
   ]
  },
  {
   "cell_type": "code",
   "execution_count": 2,
   "metadata": {},
   "outputs": [],
   "source": [
    "import numpy as np\n",
    "\n",
    "def generate_amatrix(ivector,col,increasing=True):\n",
    "    if increasing:\n",
    "        out_matrix = np.array([x**i for x in ivector for i in range(col)]).reshape(ivector.size,col)\n",
    "    else:\n",
    "        out_matrix = np.array([x**(col-i-1) for x in ivector for i in range(col)]).reshape(ivector.size,col)\n",
    "    return out_matrix"
   ]
  },
  {
   "cell_type": "code",
   "execution_count": 5,
   "metadata": {},
   "outputs": [
    {
     "data": {
      "text/plain": [
       "array([[ 1,  1,  1],\n",
       "       [ 4,  2,  1],\n",
       "       [ 9,  3,  1],\n",
       "       [16,  4,  1],\n",
       "       [25,  5,  1]])"
      ]
     },
     "execution_count": 5,
     "metadata": {},
     "output_type": "execute_result"
    }
   ],
   "source": [
    "generate_amatrix(np.array([1,2,3,4,5]),3,False)"
   ]
  },
  {
   "cell_type": "code",
   "execution_count": 6,
   "metadata": {},
   "outputs": [
    {
     "data": {
      "text/plain": [
       "array([[ 1,  1,  1],\n",
       "       [ 1,  2,  4],\n",
       "       [ 1,  3,  9],\n",
       "       [ 1,  4, 16],\n",
       "       [ 1,  5, 25]])"
      ]
     },
     "execution_count": 6,
     "metadata": {},
     "output_type": "execute_result"
    }
   ],
   "source": [
    "generate_amatrix(np.array([1,2,3,4,5]),3,True)"
   ]
  },
  {
   "cell_type": "code",
   "execution_count": 21,
   "metadata": {},
   "outputs": [],
   "source": [
    "sequence = [3, 5, 7, 2, 8, 10, 11, 65, 72, 81, 99, 100, 150]\n",
    "window = 3\n",
    "def mov_avg_list(sequence,window):\n",
    "    moving_avg_nvalues = (len(sequence)-window+1)\n",
    "    i=0\n",
    "    ans = []\n",
    "    while (i<moving_avg_nvalues):\n",
    "        current_value = sequence[i:i+moving_avg_nvalues]\n",
    "        current_value_avg = round(sum(current_value)/window,2)\n",
    "        ans.append(current_value_avg)\n",
    "        i+=1\n",
    "    return ans"
   ]
  },
  {
   "cell_type": "code",
   "execution_count": 22,
   "metadata": {},
   "outputs": [
    {
     "name": "stdout",
     "output_type": "stream",
     "text": [
      "[121.0, 153.33, 201.67, 199.33, 198.67, 196.0, 192.67, 189.0, 167.33, 143.33, 116.33]\n"
     ]
    }
   ],
   "source": [
    "print(mov_avg_list(sequence,window))"
   ]
  },
  {
   "cell_type": "code",
   "execution_count": 18,
   "metadata": {},
   "outputs": [
    {
     "name": "stdout",
     "output_type": "stream",
     "text": [
      "1 2 3 4 5 6 7 8 9 10\n",
      "4\n",
      "[7.0, 8.75, 10.5, 12.25, 11.25, 10.0, 8.5]\n"
     ]
    }
   ],
   "source": [
    "s1 = list(map(int,input().split()))\n",
    "window_size = int(input())\n",
    "print(mov_avg_list(s1,window_size))"
   ]
  }
 ],
 "metadata": {
  "kernelspec": {
   "display_name": "Python 3",
   "language": "python",
   "name": "python3"
  },
  "language_info": {
   "codemirror_mode": {
    "name": "ipython",
    "version": 3
   },
   "file_extension": ".py",
   "mimetype": "text/x-python",
   "name": "python",
   "nbconvert_exporter": "python",
   "pygments_lexer": "ipython3",
   "version": "3.8.5"
  }
 },
 "nbformat": 4,
 "nbformat_minor": 4
}
