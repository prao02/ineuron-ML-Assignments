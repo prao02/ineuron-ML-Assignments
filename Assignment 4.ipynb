{
 "cells": [
  {
   "cell_type": "markdown",
   "metadata": {},
   "source": [
    "<h3>\n",
    "1.1 Write a Python Program(with class concepts) to find the area of the triangle using the below\n",
    "formula.<br>\n",
    "area = (s*(s-a)*(s-b)*(s-c)) ** 0.5 <br>\n",
    "Function to take the length of the sides of triangle from user should be defined in the parent <br>\n",
    "class and function to calculate the area should be defined in subclass.<br>\n",
    "</h3>"
   ]
  },
  {
   "cell_type": "code",
   "execution_count": 60,
   "metadata": {},
   "outputs": [],
   "source": [
    "class triangle:\n",
    "    def __init__(self,side1,side2,side3):\n",
    "        self.side1 = side1\n",
    "        self.side2 = side2\n",
    "        self.side3 = side3\n",
    "\n",
    "class area(triangle):\n",
    "    def __init__(self,side1,side2,side3):\n",
    "        super().__init__(side1,side2,side3)\n",
    "    def get_area(self):\n",
    "        s = (self.side1+self.side2+self.side3)/2\n",
    "        ans = (s*(s-self.side1)*(s-self.side2)*(s-self.side3)) ** 0.5\n",
    "        return ans"
   ]
  },
  {
   "cell_type": "code",
   "execution_count": 64,
   "metadata": {},
   "outputs": [
    {
     "name": "stdout",
     "output_type": "stream",
     "text": [
      "3 4 5\n",
      "6.0\n"
     ]
    }
   ],
   "source": [
    "x,y,z = map(int,input().split())\n",
    "ch = area(x,y,z)\n",
    "print(ch.get_area())"
   ]
  },
  {
   "cell_type": "markdown",
   "metadata": {},
   "source": [
    "<h3>\n",
    "1.2 Write a function filter_long_words() that takes a list of words and an integer n and returns <br>\n",
    "the list of words that are longer than n.<br>\n",
    "</h3>"
   ]
  },
  {
   "cell_type": "code",
   "execution_count": 32,
   "metadata": {},
   "outputs": [
    {
     "name": "stdout",
     "output_type": "stream",
     "text": [
      "word letter token machine qoh loh tw\n",
      "4\n"
     ]
    },
    {
     "data": {
      "text/plain": [
       "['letter', 'token', 'machine']"
      ]
     },
     "execution_count": 32,
     "metadata": {},
     "output_type": "execute_result"
    }
   ],
   "source": [
    "list1 = list(input().split())\n",
    "n = int(input())\n",
    "def filter_long_words(list1,n):\n",
    "    ans = []\n",
    "    for i in list1:\n",
    "        if len(i)>n:\n",
    "            ans.append(i)\n",
    "    return ans\n",
    "\n",
    "filter_long_words(list1,n)"
   ]
  },
  {
   "cell_type": "code",
   "execution_count": 34,
   "metadata": {},
   "outputs": [
    {
     "data": {
      "text/plain": [
       "['letter', 'token', 'machine']"
      ]
     },
     "execution_count": 34,
     "metadata": {},
     "output_type": "execute_result"
    }
   ],
   "source": [
    "def filter_long_word(list1,n):\n",
    "    ans = [x for x in list1 if len(x)>n]\n",
    "    return ans\n",
    "filter_long_word(list1,n)"
   ]
  },
  {
   "cell_type": "markdown",
   "metadata": {},
   "source": [
    "<h3>2.1 Write a Python program using function concept that maps list of words into a list of integers <br>\n",
    "representing the lengths of the corresponding words. <br>\n",
    "Hint: If a list [ ab,cde,erty] is passed on to the python function output should come as [2,3,4] <br>\n",
    "Here 2,3 and 4 are the lengths of the words in the list.</h3>"
   ]
  },
  {
   "cell_type": "code",
   "execution_count": 36,
   "metadata": {},
   "outputs": [
    {
     "name": "stdout",
     "output_type": "stream",
     "text": [
      "Before:  ['word', 'letter', 'token', 'machine', 'qoh', 'loh', 'tw']\n",
      "After:  [4, 6, 5, 7, 3, 3, 2]\n"
     ]
    }
   ],
   "source": [
    "def lis_int(list1):\n",
    "    ans = [len(x) for x in list1]\n",
    "    return ans\n",
    "print(\"Before: \",list1)\n",
    "print(\"After: \",lis_int(list1))"
   ]
  },
  {
   "cell_type": "markdown",
   "metadata": {},
   "source": [
    "<h3>2.2 Write a Python function which takes a character (i.e. a string of length 1) and returns True if <br>\n",
    "it is a vowel, False otherwise. </h3>"
   ]
  },
  {
   "cell_type": "code",
   "execution_count": 45,
   "metadata": {},
   "outputs": [
    {
     "name": "stdout",
     "output_type": "stream",
     "text": [
      "O\n"
     ]
    },
    {
     "data": {
      "text/plain": [
       "False"
      ]
     },
     "execution_count": 45,
     "metadata": {},
     "output_type": "execute_result"
    }
   ],
   "source": [
    "x = input() \n",
    "def isvowel(x):\n",
    "    vowel = ['a','e','i','o','u']\n",
    "    if len(x)==1:\n",
    "        if x in vowel:\n",
    "            return True\n",
    "        else:\n",
    "            return False\n",
    "    else:\n",
    "        print('Enter 1 letter only')\n",
    "\n",
    "isvowel(x)"
   ]
  }
 ],
 "metadata": {
  "kernelspec": {
   "display_name": "Python 3",
   "language": "python",
   "name": "python3"
  },
  "language_info": {
   "codemirror_mode": {
    "name": "ipython",
    "version": 3
   },
   "file_extension": ".py",
   "mimetype": "text/x-python",
   "name": "python",
   "nbconvert_exporter": "python",
   "pygments_lexer": "ipython3",
   "version": "3.8.5"
  }
 },
 "nbformat": 4,
 "nbformat_minor": 4
}
