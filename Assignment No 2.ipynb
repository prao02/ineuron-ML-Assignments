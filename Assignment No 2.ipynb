{
 "cells": [
  {
   "cell_type": "markdown",
   "metadata": {},
   "source": [
    "## 1. Create the below pattern using nested for loop in Python.\n",
    "###### * \n",
    "###### * * \n",
    "###### * * * \n",
    "###### * * * * \n",
    "###### * * * * * \n",
    "###### * * * * \n",
    "###### * * * \n",
    "###### * * \n",
    "###### *"
   ]
  },
  {
   "cell_type": "code",
   "execution_count": 1,
   "metadata": {
    "scrolled": true
   },
   "outputs": [
    {
     "name": "stdout",
     "output_type": "stream",
     "text": [
      "* \n",
      "* * \n",
      "* * * \n",
      "* * * * \n",
      "* * * * * \n",
      "* * * * \n",
      "* * * \n",
      "* * \n",
      "* \n"
     ]
    }
   ],
   "source": [
    "for i in range(1,6):\n",
    "    for j in range(0,i):\n",
    "        print(\"*\" , end = \" \")\n",
    "    print()\n",
    "\n",
    "for i in range(4,0,-1):\n",
    "    for j in range(0,i):\n",
    "        print(\"*\",end = \" \")\n",
    "    print()"
   ]
  },
  {
   "cell_type": "markdown",
   "metadata": {},
   "source": [
    "## 2. Write a Python program to reverse a word after accepting the input from the user.\n",
    "Sample Output:\n",
    "\n",
    "Input word: ineuron\n",
    "\n",
    "Output: norueni"
   ]
  },
  {
   "cell_type": "code",
   "execution_count": 2,
   "metadata": {},
   "outputs": [
    {
     "name": "stdout",
     "output_type": "stream",
     "text": [
      "Input the word: ineuron\n",
      "norueni\n",
      "By this method: \n",
      "norueni"
     ]
    }
   ],
   "source": [
    "word = input(\"Input the word: \")\n",
    "\n",
    "## shortcut method\n",
    "print(word[::-1])\n",
    "\n",
    "## naive method \n",
    "n = len(word)\n",
    "print(\"By this method: \")\n",
    "for i in range(n-1,-1,-1):\n",
    "    print(word[i],end='')"
   ]
  }
 ],
 "metadata": {
  "kernelspec": {
   "display_name": "Python 3",
   "language": "python",
   "name": "python3"
  },
  "language_info": {
   "codemirror_mode": {
    "name": "ipython",
    "version": 3
   },
   "file_extension": ".py",
   "mimetype": "text/x-python",
   "name": "python",
   "nbconvert_exporter": "python",
   "pygments_lexer": "ipython3",
   "version": "3.8.5"
  }
 },
 "nbformat": 4,
 "nbformat_minor": 4
}
