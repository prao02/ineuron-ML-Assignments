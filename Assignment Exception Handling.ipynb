{
 "cells": [
  {
   "cell_type": "markdown",
   "metadata": {},
   "source": [
    "<h1> Assignment Exception Handling</h1>\n",
    "<h3>1. Write a function to compute 5/0 and use try/except to catch the exceptions.</h3>\n"
   ]
  },
  {
   "cell_type": "code",
   "execution_count": 2,
   "metadata": {},
   "outputs": [
    {
     "name": "stdout",
     "output_type": "stream",
     "text": [
      "5\n",
      "0\n",
      "do not divide by zero\n"
     ]
    }
   ],
   "source": [
    "a  = int(input())\n",
    "b = int(input())\n",
    "try:\n",
    "    print (a/b)\n",
    "except ZeroDivisionError:\n",
    "    print('do not divide by zero')"
   ]
  },
  {
   "cell_type": "markdown",
   "metadata": {},
   "source": [
    "<h3>2. Implement a Python program to generate all sentences where subject is in\n",
    "[\"Americans\", \"Indians\"] and verb is in [\"Play\", \"watch\"] and the object is in\n",
    "[\"Baseball\",\"cricket\"].</h3>\n",
    "<p>Hint: Subject,Verb and Object should be declared in the program as shown below.</p>\n",
    "<ul><li>subjects=[\"Americans \",\"Indians\"]</li>\n",
    "<li>verbs=[\"play\",\"watch\"]</li>\n",
    "<li>objects=[\"Baseball\",\"Cricket\"]</li></ul>\n",
    "Output should come as below:\n",
    "Americans play Baseball. <br>\n",
    "Americans play Cricket.<br>\n",
    "Americans watch Baseball. <br>\n",
    "Americans watch Cricket. <br>\n",
    "Indians play Baseball. <br>\n",
    "Indians play Cricket. <br>\n",
    "Indians watch Baseball. <br>\n",
    "Indians watch Cricket."
   ]
  },
  {
   "cell_type": "code",
   "execution_count": 3,
   "metadata": {},
   "outputs": [],
   "source": [
    "subjects=[\"Americans\",\"Indians\"]\n",
    "verbs=[\"play\",\"watch\"]\n",
    "objects=[\"Baseball\",\"Cricket\"]"
   ]
  },
  {
   "cell_type": "code",
   "execution_count": 14,
   "metadata": {},
   "outputs": [
    {
     "name": "stdout",
     "output_type": "stream",
     "text": [
      "\n",
      "Americans play Baseball.,\n",
      "Americans play Cricket.,\n",
      "Americans watch Baseball.,\n",
      "Americans watch Cricket.,\n",
      "Indians play Baseball.,\n",
      "Indians play Cricket.,\n",
      "Indians watch Baseball.,\n",
      "Indians watch Cricket.,"
     ]
    }
   ],
   "source": [
    "sentences = [x+' '+y+' '+z+'.' for x in subjects for y in verbs for z in objects]\n",
    "for sentence in sentences:\n",
    "    print('\\n'+ sentence, end = ',')"
   ]
  }
 ],
 "metadata": {
  "kernelspec": {
   "display_name": "Python 3",
   "language": "python",
   "name": "python3"
  },
  "language_info": {
   "codemirror_mode": {
    "name": "ipython",
    "version": 3
   },
   "file_extension": ".py",
   "mimetype": "text/x-python",
   "name": "python",
   "nbconvert_exporter": "python",
   "pygments_lexer": "ipython3",
   "version": "3.8.5"
  }
 },
 "nbformat": 4,
 "nbformat_minor": 4
}
